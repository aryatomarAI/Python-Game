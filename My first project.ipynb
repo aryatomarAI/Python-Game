{
 "cells": [
  {
   "cell_type": "code",
   "execution_count": 1,
   "metadata": {},
   "outputs": [],
   "source": [
    "# We will be building a game of tic tac toe in this segment"
   ]
  },
  {
   "cell_type": "code",
   "execution_count": 2,
   "metadata": {},
   "outputs": [],
   "source": [
    "#Step1 building a display for the game"
   ]
  },
  {
   "cell_type": "code",
   "execution_count": 1,
   "metadata": {},
   "outputs": [],
   "source": [
    "from IPython.display import clear_output\n",
    "def display_board(board):\n",
    "    clear_output()\n",
    "    print(' '+board[1]+ ' '+'|' +' '+board[2]+' ' +'|'+' ' +board[3]+' ')\n",
    "    print('---'+'|'+'---'+'|'+'---')\n",
    "    print(' '+board[4]+ ' '+'|' +' '+board[5]+' ' +'|'+' ' +board[6]+' ')\n",
    "    print('---'+'|'+'---'+'|'+'---')\n",
    "    print(' '+board[7]+ ' '+'|' +' '+board[8]+' ' +'|'+' ' +board[9]+' ')"
   ]
  },
  {
   "cell_type": "code",
   "execution_count": 2,
   "metadata": {},
   "outputs": [
    {
     "name": "stdout",
     "output_type": "stream",
     "text": [
      " O | X | O \n",
      "---|---|---\n",
      " X | O | X \n",
      "---|---|---\n",
      " O | X | O \n"
     ]
    }
   ],
   "source": [
    "test_board=['#','O','X','O','X','O','X','O','X','O']\n",
    "display_board(test_board)"
   ]
  },
  {
   "cell_type": "code",
   "execution_count": 21,
   "metadata": {},
   "outputs": [],
   "source": [
    "# Step2 Asking player1 and player2 who will go first"
   ]
  },
  {
   "cell_type": "code",
   "execution_count": 3,
   "metadata": {},
   "outputs": [],
   "source": [
    "def player_input():\n",
    "    print('Player1 have to choose the marker first')\n",
    "    marker=''\n",
    "    while marker !='X' and marker!='O':\n",
    "        marker=input('player1 choose your marker from X and O:')\n",
    "        player1=marker\n",
    "        if player1!='X' and player1!='O':\n",
    "            print('please choose a correct marker')\n",
    "        if player1=='X':\n",
    "            player2='O'\n",
    "        else:\n",
    "            player2='X'\n",
    "    return (player1,player2)\n",
    "    \n",
    "            \n",
    "    "
   ]
  },
  {
   "cell_type": "code",
   "execution_count": 4,
   "metadata": {},
   "outputs": [
    {
     "name": "stdout",
     "output_type": "stream",
     "text": [
      "Player1 have to choose the marker first\n",
      "player1 choose your marker from X and O:O\n"
     ]
    }
   ],
   "source": [
    "player1_marker,player2_marker=player_input()"
   ]
  },
  {
   "cell_type": "code",
   "execution_count": 58,
   "metadata": {},
   "outputs": [
    {
     "data": {
      "text/plain": [
       "'O'"
      ]
     },
     "execution_count": 58,
     "metadata": {},
     "output_type": "execute_result"
    }
   ],
   "source": [
    "player1_marker"
   ]
  },
  {
   "cell_type": "code",
   "execution_count": 59,
   "metadata": {},
   "outputs": [
    {
     "data": {
      "text/plain": [
       "'X'"
      ]
     },
     "execution_count": 59,
     "metadata": {},
     "output_type": "execute_result"
    }
   ],
   "source": [
    "player2_marker"
   ]
  },
  {
   "cell_type": "code",
   "execution_count": 41,
   "metadata": {},
   "outputs": [
    {
     "data": {
      "text/plain": [
       "'X'"
      ]
     },
     "execution_count": 41,
     "metadata": {},
     "output_type": "execute_result"
    }
   ],
   "source": [
    "player2_marker"
   ]
  },
  {
   "cell_type": "code",
   "execution_count": 42,
   "metadata": {},
   "outputs": [],
   "source": [
    "# Step3 Now write a function which can take board list and then change a desired position with a marker"
   ]
  },
  {
   "cell_type": "code",
   "execution_count": 5,
   "metadata": {},
   "outputs": [],
   "source": [
    "def place_marker(board,marker,position):\n",
    "    board[position]=marker"
   ]
  },
  {
   "cell_type": "code",
   "execution_count": 6,
   "metadata": {},
   "outputs": [
    {
     "data": {
      "text/plain": [
       "['#', 'O', 'X', 'O', 'X', 'O', 'X', 'O', 'X', 'O']"
      ]
     },
     "execution_count": 6,
     "metadata": {},
     "output_type": "execute_result"
    }
   ],
   "source": [
    "test_board"
   ]
  },
  {
   "cell_type": "code",
   "execution_count": 7,
   "metadata": {},
   "outputs": [
    {
     "name": "stdout",
     "output_type": "stream",
     "text": [
      " O | X | O \n",
      "---|---|---\n",
      " X | X | X \n",
      "---|---|---\n",
      " O | X | O \n"
     ]
    }
   ],
   "source": [
    "place_marker(test_board,'X',5)\n",
    "display_board(test_board)"
   ]
  },
  {
   "cell_type": "code",
   "execution_count": 14,
   "metadata": {},
   "outputs": [],
   "source": [
    "# Step4 Now write a function that take in a board and return if the mark is won or not"
   ]
  },
  {
   "cell_type": "code",
   "execution_count": 8,
   "metadata": {},
   "outputs": [],
   "source": [
    "def win_check(board,mark):\n",
    "    return ((board[1]==board[2]==board[3]==mark)or\n",
    "    (board[4]==board[5]==board[6]==mark)or\n",
    "    (board[7]==board[8]==board[9]==mark)or\n",
    "    (board[1]==board[4]==board[7]==mark)or\n",
    "    (board[2]==board[5]==board[8]==mark)or\n",
    "    (board[3]==board[6]==board[9]==mark)or\n",
    "    (board[1]==board[5]==board[9]==mark)or\n",
    "    (board[3]==board[5]==board[7]==mark))"
   ]
  },
  {
   "cell_type": "code",
   "execution_count": 9,
   "metadata": {},
   "outputs": [
    {
     "name": "stdout",
     "output_type": "stream",
     "text": [
      " O | X | O \n",
      "---|---|---\n",
      " X | X | X \n",
      "---|---|---\n",
      " O | X | O \n"
     ]
    },
    {
     "data": {
      "text/plain": [
       "True"
      ]
     },
     "execution_count": 9,
     "metadata": {},
     "output_type": "execute_result"
    }
   ],
   "source": [
    "display_board(test_board)\n",
    "win_check(test_board,'X')"
   ]
  },
  {
   "cell_type": "code",
   "execution_count": 20,
   "metadata": {},
   "outputs": [],
   "source": [
    "# Step5 Now randomly decide if player1 get the first chance to play or the player2 get the first chance"
   ]
  },
  {
   "cell_type": "code",
   "execution_count": 10,
   "metadata": {},
   "outputs": [],
   "source": [
    "from random import randint\n",
    "def choose_first():\n",
    "    flip=randint(0,1)\n",
    "    if flip==0:\n",
    "        return 'player1'\n",
    "    else:\n",
    "        return 'player2'\n"
   ]
  },
  {
   "cell_type": "code",
   "execution_count": 11,
   "metadata": {},
   "outputs": [
    {
     "data": {
      "text/plain": [
       "'player1'"
      ]
     },
     "execution_count": 11,
     "metadata": {},
     "output_type": "execute_result"
    }
   ],
   "source": [
    "choose_first()"
   ]
  },
  {
   "cell_type": "code",
   "execution_count": 51,
   "metadata": {},
   "outputs": [],
   "source": [
    "#Step6 Now check whether the space on the board is free or not"
   ]
  },
  {
   "cell_type": "code",
   "execution_count": 12,
   "metadata": {},
   "outputs": [],
   "source": [
    "def space_check(board,position):\n",
    "    return board[position]==' '\n",
    "    "
   ]
  },
  {
   "cell_type": "code",
   "execution_count": 13,
   "metadata": {},
   "outputs": [],
   "source": [
    "def full_board_check(board):\n",
    "    for i in range(1,10):\n",
    "        if space_check(board,i):\n",
    "            return False\n",
    "    return True\n",
    "    \n",
    "    "
   ]
  },
  {
   "cell_type": "code",
   "execution_count": 53,
   "metadata": {},
   "outputs": [],
   "source": [
    "#Write a function that asks for a player's next position (as a number 1-9) and then uses the function from step 6 to check if \n",
    "#it's a free position.\n",
    "#If it is, then return the position for later use"
   ]
  },
  {
   "cell_type": "code",
   "execution_count": 14,
   "metadata": {},
   "outputs": [],
   "source": [
    "def player_choice(board):\n",
    "    position=0\n",
    "    while position not in [1,2,3,4,5,6,7,8,9] or not space_check(board,position):\n",
    "        position=int(input('Choose a position from 1 to 9:'))\n",
    "    return position    "
   ]
  },
  {
   "cell_type": "code",
   "execution_count": 15,
   "metadata": {},
   "outputs": [],
   "source": [
    "#Ask whether players want to play again or not"
   ]
  },
  {
   "cell_type": "code",
   "execution_count": 20,
   "metadata": {},
   "outputs": [],
   "source": [
    "def replay():\n",
    "    choice='Wrong'\n",
    "    while choice not in ['Y','N']:\n",
    "        choice=input('Do you want play again? (Y or N):')\n",
    "        if choice not in ['Y','N']:\n",
    "            print('Sorry, I dont understand please choose between Y and N!')\n",
    "    if choice=='Y':\n",
    "        return True\n",
    "    else:\n",
    "        return False\n",
    "        "
   ]
  },
  {
   "cell_type": "code",
   "execution_count": 61,
   "metadata": {},
   "outputs": [],
   "source": [
    "# In the last section we will put the above functions together to write the game program"
   ]
  },
  {
   "cell_type": "code",
   "execution_count": 23,
   "metadata": {},
   "outputs": [
    {
     "name": "stdout",
     "output_type": "stream",
     "text": [
      "Welcome to the Tic Tac Toe Game\n",
      "Player1 have to choose the marker first\n",
      "player1 choose your marker from X and O:O\n",
      "player1will go first\n",
      "Are you ready to play? y or n|n\n",
      "Do you want play again? (Y or N):N\n"
     ]
    }
   ],
   "source": [
    "print('Welcome to the Tic Tac Toe Game')\n",
    "while True:\n",
    "    the_board=[' ']*10\n",
    "    player1_marker,player2_marker=player_input()\n",
    "    turn=choose_first()\n",
    "    print(turn + 'will go first')\n",
    "    play_game=input('Are you ready to play? y or n|')\n",
    "    if play_game=='y':\n",
    "        game_on=True\n",
    "    else:\n",
    "        game_on=False\n",
    "        \n",
    "    while game_on:\n",
    "        if turn=='player1':\n",
    "            display_board(the_board)\n",
    "            position=player_choice(the_board)\n",
    "            place_marker(the_board,player1_marker,position)\n",
    "            if win_check(the_board,player1_marker):\n",
    "                display_board(the_board)\n",
    "                print('Player1 have won the match!!')\n",
    "                game_on=False\n",
    "            else:\n",
    "                if full_board_check(the_board):\n",
    "                    display_board(the_board)\n",
    "                    print('Match is a Tie')\n",
    "                    \n",
    "                else:\n",
    "                    turn='player2'\n",
    "                    \n",
    "        else:\n",
    "            display_board(the_board)\n",
    "            position=player_choice(the_board)\n",
    "            place_marker(the_board,player2_marker,position)\n",
    "            if win_check(the_board,player2_marker):\n",
    "                display_board(the_board)\n",
    "                print('Player2 have won the match!!')\n",
    "                game_on=False\n",
    "            else:\n",
    "                if full_board_check(the_board):\n",
    "                    display_board(the_board)\n",
    "                    print('Match is a Tie')\n",
    "                    \n",
    "                else:\n",
    "                    turn='player1'\n",
    "                    \n",
    "    if not replay():\n",
    "        break\n",
    "            \n",
    "                \n",
    "        \n",
    "        "
   ]
  },
  {
   "cell_type": "code",
   "execution_count": null,
   "metadata": {},
   "outputs": [],
   "source": []
  }
 ],
 "metadata": {
  "kernelspec": {
   "display_name": "Python 3",
   "language": "python",
   "name": "python3"
  },
  "language_info": {
   "codemirror_mode": {
    "name": "ipython",
    "version": 3
   },
   "file_extension": ".py",
   "mimetype": "text/x-python",
   "name": "python",
   "nbconvert_exporter": "python",
   "pygments_lexer": "ipython3",
   "version": "3.7.3"
  }
 },
 "nbformat": 4,
 "nbformat_minor": 2
}
